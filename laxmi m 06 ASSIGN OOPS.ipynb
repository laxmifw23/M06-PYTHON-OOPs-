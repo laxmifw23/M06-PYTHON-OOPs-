{
 "cells": [
  {
   "cell_type": "markdown",
   "metadata": {},
   "source": [
    "#Python OOPs Q&A\n",
    "# 1. What is Object-Oriented Programming (OOP)\n",
    "- Object-Oriented Programming (OOP) is a programming paradigm that revolves around the concept of objects and classes. It's based on four main principles:\n",
    "1. Encapsulation: Bundling data and methods into a single unit.\n",
    "2. Abstraction: Hiding complex details and showing only necessary information.\n",
    "3. Inheritance: Creating new classes based on existing ones.\n",
    "4. Polymorphism: Ability of objects to take on multiple forms."
   ]
  },
  {
   "cell_type": "markdown",
   "metadata": {},
   "source": [
    "# 2. What is a class in OOP\n",
    "- In Object-Oriented Programming (OOP), a class is a blueprint or template that defines the properties and behaviors of an object. It's essentially a design pattern or a template that defines the characteristics and actions of an object. A class typically includes attributes (data) and methods (functions) that operate on that data. Classes are used to create objects, which are instances of the class."
   ]
  },
  {
   "cell_type": "markdown",
   "metadata": {},
   "source": [
    "# 3. What is an object in OOP\n",
    "- In Object-Oriented Programming (OOP), an object is an instance of a class that represents a real-world entity or concept. It has its own set of attributes (data) and methods (functions) that describe and define its behavior. Objects can interact with each other and inherit properties from parent classes, enabling modular, reusable, and efficient code."
   ]
  },
  {
   "cell_type": "markdown",
   "metadata": {},
   "source": [
    "# 4. What is the difference between abstraction and encapsulation\n",
    "- Abstraction and encapsulation are fundamental concepts in Object-Oriented Programming (OOP).\n",
    "Abstraction: Hides unnecessary details and shows only essential features of an object or system, allowing for simplified interaction.\n",
    "Encapsulation: Bundles data and methods that manipulate that data within a single unit, hiding internal implementation details and protecting data from external interference."
   ]
  },
  {
   "cell_type": "markdown",
   "metadata": {},
   "source": [
    "# 5. What are dunder methods in Python\n",
    "- In Python, \"dunder\" methods are special methods surrounded by double underscores () on either side. They are used to emulate the behavior of built-in types and implement operator overloading. Examples include __init__, __str__, __add__, and __len__. Dunder methods allow developers to create custom classes that behave like native Python data types."
   ]
  },
  {
   "cell_type": "markdown",
   "metadata": {},
   "source": [
    "# 6. Explain the concept of inheritance in OOP\n",
    "- Inheritance is a fundamental concept in Object-Oriented Programming (OOP) where a child class (subclass) inherits properties, methods, and behavior from a parent class (superclass). The child class inherits all the attributes and methods of the parent class and can also add new attributes, override existing methods, or modify behavior."
   ]
  },
  {
   "cell_type": "markdown",
   "metadata": {},
   "source": [
    "# 7. What is polymorphism in OOP\n",
    "- Polymorphism is the ability of an object to take on multiple forms, depending on the context. This can be achieved through method overriding or method overloading, allowing objects of different classes to be treated as objects of a common superclass."
   ]
  },
  {
   "cell_type": "markdown",
   "metadata": {},
   "source": [
    "# 8. How is encapsulation achieved in Python\n",
    "- In Python, encapsulation is achieved using:\n",
    "1. Private variables: Prefixing variable names with double underscore (__) makes them inaccessible directly.\n",
    "2. Getter and setter methods: Using methods to access and modify private variables.\n",
    "3. Properties: Using the @property decorator to create read-only or read-write attributes."
   ]
  },
  {
   "cell_type": "markdown",
   "metadata": {},
   "source": [
    "# 9. What is a constructor in Python\n",
    "- In Python, a constructor is a special method called __init__ that is automatically called when an object is created from a class. It initializes the attributes of the class and sets the initial state of the object."
   ]
  },
  {
   "cell_type": "markdown",
   "metadata": {},
   "source": [
    "# 10. What are class and static methods in Python\n",
    "- n Python:\n",
    "- Class methods: Methods bound to the class, not the instance. Defined using @classmethod decorator. They can access or modify class state.\n",
    "- Static methods: Methods that belong to the class, not the instance. Defined using @staticmethod decorator. They cannot access class or instance state."
   ]
  },
  {
   "cell_type": "markdown",
   "metadata": {},
   "source": [
    "# 11. What is method overloading in Python\n",
    "- Python does not support method overloading in the classical sense. However, you can achieve similar behavior using:\n",
    "- Default argument values: Assign default values to parameters to create multiple \"versions\" of a method.\n",
    "- Variable-length argument lists: Use *args or **kwargs to accept varying numbers of arguments.\n",
    "- Single Dispatch: Use the @singledispatch decorator from the functools module to register multiple functions with the same name."
   ]
  },
  {
   "cell_type": "markdown",
   "metadata": {},
   "source": [
    "# 12. What is method overriding in OOP\n",
    "- Method overriding is a feature in OOP where a subclass provides a specific implementation of a method that is already defined in its superclass. The subclass method has the same name, return type, and parameter list as the superclass method, but can have different behavior."
   ]
  },
  {
   "cell_type": "markdown",
   "metadata": {},
   "source": [
    "# 13. What is a property decorator in Python\n",
    "- In Python, the @property decorator allows a method to be accessed like an attribute. It enables getter, setter, and deleter functionality for an attribute, providing a flexible way to implement encapsulation and control access to an object's internal state."
   ]
  },
  {
   "cell_type": "markdown",
   "metadata": {},
   "source": [
    "# 14. Why is polymorphism important in OOP\n",
    "- Polymorphism is crucial in OOP because it:\n",
    "1. Increases flexibility: Objects of different classes can be treated uniformly.\n",
    "2. Enhances code reusability: Methods can work with various data types.\n",
    "3. Simplifies code maintenance: Changes to code are minimized.\n",
    "4. Promotes generic programming: Algorithms can be applied to diverse data types."
   ]
  },
  {
   "cell_type": "markdown",
   "metadata": {},
   "source": [
    "# 15. What is an abstract class in Python\n",
    "- In Python, an abstract class is a class that cannot be instantiated and is designed to be inherited by other classes. It defines a blueprint for subclasses, including abstract methods (declared with @abstractmethod) that must be implemented by any concrete subclass."
   ]
  },
  {
   "cell_type": "markdown",
   "metadata": {},
   "source": [
    "# 16. What are the advantages of OOP\n",
    "- The advantages of Object-Oriented Programming (OOP) include:\n",
    "1. Modularity: Code organized into reusable modules.\n",
    "2. Reusability: Reduced code duplication.\n",
    "3. Easier maintenance: Code modifications localized to specific modules.\n",
    "4. Improved readability: Code organized around real-world objects and concepts.\n",
    "5. Enhanced scalability: New features easily added."
   ]
  },
  {
   "cell_type": "markdown",
   "metadata": {},
   "source": [
    "# 17. What is multiple inheritance in Python\n",
    "- In Python, multiple inheritance allows a class to inherit properties and methods from multiple parent classes. A child class can inherit from multiple base classes, combining their attributes and methods. This is useful for creating complex classes with diverse functionality."
   ]
  },
  {
   "cell_type": "markdown",
   "metadata": {},
   "source": [
    "# 18. What is the difference between a class variable and an instance variable\n",
    "- n Python:\n",
    "- Class variable: Shared by all instances of a class. Defined inside a class but outside any method. Changes affect all instances.\n",
    "- Instance variable: Unique to each instance of a class. Defined inside a method, typically __init__. Changes affect only the specific instance."
   ]
  },
  {
   "cell_type": "markdown",
   "metadata": {},
   "source": [
    "# 19. Explain the purpose of ‘’__str__’ and ‘__repr__’ ‘ methods in Python\n",
    "- In Python:\n",
    "- __str__: Returns a human-readable string representation of an object, used for end-users (e.g., print()). Should be concise and informative.\n",
    "- __repr__: Returns a developer-readable string representation of an object, used for debugging and logging. Should be precise and unambiguous.\n",
    "Both methods help with object representation, but serve different purposes and audiences."
   ]
  },
  {
   "cell_type": "markdown",
   "metadata": {},
   "source": [
    "# 20. What is the significance of the ‘super()’ function in Python\n",
    "- The super() function in Python allows a subclass to:\n",
    "1. Access superclass methods: Call methods from the superclass, enabling method overriding and extension.\n",
    "2. Invoke superclass constructors: Initialize superclass attributes and state.\n",
    "3. Resolve method resolution order (MRO): Ensure correct method lookup in multiple inheritance scenarios.\n",
    "super() facilitates cooperative inheritance, enabling subclasses to build upon and enhance superclass behavior."
   ]
  },
  {
   "cell_type": "markdown",
   "metadata": {},
   "source": [
    "# 21. What is the significance of the __del__ method in Python\n",
    "- The __del__ method in Python is a special method that serves as a destructor, allowing an object to:\n",
    "1. Release system resources: Close files, sockets, or database connections.\n",
    "2. Clean up internal state: Release memory or reset attributes.\n",
    "When an object is garbage collected, Python calls its __del__ method, ensuring resources are properly released and minimizing memory leaks."
   ]
  },
  {
   "cell_type": "markdown",
   "metadata": {},
   "source": [
    "# 22. What is the difference between @staticmethod and @classmethod in Python\n",
    "- In Python:\n",
    "- @staticmethod: A static method belongs to a class, not an instance. It can't access or modify class or instance state.\n",
    "- @classmethod: A class method belongs to a class, not an instance. It can access or modify class state, but not instance state.\n",
    "    Both are used for organization and naming, but differ in their access to class and instance attributes."
   ]
  },
  {
   "cell_type": "markdown",
   "metadata": {},
   "source": [
    "# 23. How does polymorphism work in Python with inheritance\n",
    "- In Python, polymorphism works with inheritance by allowing a subclass to override or extend the methods of its superclass. When a method is called on an object, Python checks the object's class and its superclasses for a matching method, enabling polymorphic behavior"
   ]
  },
  {
   "cell_type": "markdown",
   "metadata": {},
   "source": [
    "# 24. What is method chaining in Python OOP\n",
    "- Method chaining in Python OOP is a technique where multiple methods are called on an object in a single statement, with each method returning the object itself (self). This allows for a fluent and readable API, enabling code like obj.method1().method2().method3()."
   ]
  },
  {
   "cell_type": "markdown",
   "metadata": {},
   "source": [
    "# 25. What is the purpose of the __call__ method in Python\n",
    "- The __call__ method in Python allows an instance of a class to be called as a function. This enables objects to behave like functions, making them more flexible and reusable. When __call__ is defined, instances can be invoked with parentheses, executing the method's co"
   ]
  },
  {
   "cell_type": "code",
   "execution_count": null,
   "metadata": {},
   "outputs": [
    {
     "name": "stdout",
     "output_type": "stream",
     "text": [
      "The animal makes a sound.\n",
      "Bark!\n"
     ]
    }
   ],
   "source": [
    "# Practical Q&A \n",
    "'''1. Create a parent class Animal with a method speak() that prints a generic message. Create a child class Dog \n",
    "that overrides the speak() method to print \"Bark!\".'''\n",
    "class Animal:\n",
    "    def speak(self):\n",
    "        print(\"The animal makes a sound.\")\n",
    "class Dog(Animal):\n",
    "    def speak(self):\n",
    "        print(\"Bark!\")\n",
    "# Example usage\n",
    "animal = Animal()\n",
    "animal.speak()  # Output: The animal makes a sound.\n",
    "dog = Dog()\n",
    "dog.speak()  # Output: Bark!"
   ]
  },
  {
   "cell_type": "code",
   "execution_count": 12,
   "metadata": {},
   "outputs": [
    {
     "name": "stdout",
     "output_type": "stream",
     "text": [
      "Circle Area: 78.54\n"
     ]
    }
   ],
   "source": [
    "'''2. Write a program to create an abstract class Shape with a method area(). Derive classes Circle and Rectangle \n",
    "from it and implement the area() method in both.'''\n",
    "from abc import ABC, abstractmethod\n",
    "import math\n",
    "\n",
    "class Shape(ABC):\n",
    "    @abstractmethod\n",
    "    def area(self):\n",
    "        pass\n",
    "\n",
    "class Circle(Shape):\n",
    "    def __init__(self, radius):\n",
    "        self.radius = radius\n",
    "\n",
    "    def area(self):\n",
    "        return math.pi * (self.radius ** 2)\n",
    "\n",
    "class Rectangle(Shape):\n",
    "    def __init__(self, length, width):\n",
    "        self.length = length\n",
    "        self.width = width\n",
    "\n",
    "    def area(self):\n",
    "        return self.length * self.width\n",
    "\n",
    "# Example usage\n",
    "circle = Circle(5)\n",
    "print(f\"Circle Area: {circle.area():.2f}\")\n",
    "\n",
    "rectangle = Rectangle(4, 6)"
   ]
  },
  {
   "cell_type": "code",
   "execution_count": 15,
   "metadata": {},
   "outputs": [
    {
     "name": "stdout",
     "output_type": "stream",
     "text": [
      "Vehicle Type: Car\n",
      "Brand: Tesla, Model: Model 3\n",
      "Battery Capacity: 75 kWh\n"
     ]
    }
   ],
   "source": [
    "'''3. Implement a multi-level inheritance scenario where a class Vehicle has an attribute type. Derive a class Car \n",
    "and further derive a class ElectricCar that adds a battery attribute.'''\n",
    "class Vehicle:\n",
    "    def __init__(self, type):\n",
    "        self.type = type\n",
    "\n",
    "    def display_details(self):\n",
    "        print(f\"Vehicle Type: {self.type}\")\n",
    "\n",
    "class Car(Vehicle):\n",
    "    def __init__(self, type, brand, model):\n",
    "        super().__init__(type)\n",
    "        self.brand = brand\n",
    "        self.model = model\n",
    "\n",
    "    def display_details(self):\n",
    "        super().display_details()\n",
    "        print(f\"Brand: {self.brand}, Model: {self.model}\")\n",
    "\n",
    "class ElectricCar(Car):\n",
    "    def __init__(self, type, brand, model, battery_capacity):\n",
    "        super().__init__(type, brand, model)\n",
    "        self.battery_capacity = battery_capacity\n",
    "\n",
    "    def display_details(self):\n",
    "        super().display_details()\n",
    "        print(f\"Battery Capacity: {self.battery_capacity} kWh\")\n",
    "\n",
    "        # Example usage\n",
    "electric_car = ElectricCar(\"Car\", \"Tesla\", \"Model 3\", 75)\n",
    "electric_car.display_details()"
   ]
  },
  {
   "cell_type": "code",
   "execution_count": 19,
   "metadata": {},
   "outputs": [
    {
     "name": "stdout",
     "output_type": "stream",
     "text": [
      "Sparrow is flying.\n",
      "Penguins cannot fly, they swim.\n"
     ]
    }
   ],
   "source": [
    "'''4. Demonstrate polymorphism by creating a base class Bird with a method fly(). Create two derived classes \n",
    "Sparrow and Penguin that override the fly() method.'''\n",
    "class Bird:\n",
    "    def fly(self):\n",
    "        pass\n",
    "\n",
    "class Sparrow(Bird):\n",
    "    def fly(self):\n",
    "        print(\"Sparrow is flying.\")\n",
    "\n",
    "class Penguin(Bird):\n",
    "    def fly(self):\n",
    "        print(\"Penguins cannot fly, they swim.\")\n",
    "\n",
    "def make_bird_fly(bird: Bird):\n",
    "    bird.fly()\n",
    "\n",
    "# Example usage\n",
    "sparrow = Sparrow()\n",
    "penguin = Penguin()\n",
    "\n",
    "make_bird_fly(sparrow)  # Output: Sparrow is flying.\n",
    "make_bird_fly(penguin)  # Output: Penguins cannot fly, they swim."
   ]
  },
  {
   "cell_type": "code",
   "execution_count": null,
   "metadata": {},
   "outputs": [
    {
     "name": "stdout",
     "output_type": "stream",
     "text": [
      "Current balance: $1000.00\n",
      "Deposited $500.00. New balance: $1500.00\n",
      "Withdrew $200.00. New balance: $1300.00\n",
      "Current balance: $1300.00\n"
     ]
    }
   ],
   "source": [
    "'''5. Write a program to demonstrate encapsulation by creating a class BankAccount with private attributes \n",
    "balance and methods to deposit, withdraw, and check balance.'''\n",
    "class BankAccount:\n",
    "    def __init__(self, initial_balance=0):\n",
    "        self.__balance = initial_balance\n",
    "\n",
    "    def deposit(self, amount):\n",
    "        if amount > 0:\n",
    "            self.__balance += amount\n",
    "            print(f\"Deposited ${amount:.2f}. New balance: ${self.__balance:.2f}\")\n",
    "        else:\n",
    "            print(\"Invalid deposit amount.\")\n",
    "\n",
    "    def withdraw(self, amount):\n",
    "        if 0 < amount <= self.__balance:\n",
    "            self.__balance -= amount\n",
    "            print(f\"Withdrew ${amount:.2f}. New balance: ${self.__balance:.2f}\")\n",
    "        else:\n",
    "            print(\"Invalid withdrawal amount.\")\n",
    "\n",
    "    def check_balance(self):\n",
    "        print(f\"Current balance: ${self.__balance:.2f}\")\n",
    "\n",
    "# Example usage\n",
    "account = BankAccount(1000)\n",
    "account.check_balance()  # Output: Current balance: $1000.00\n",
    "account.deposit(500)  # Output: Deposited $500.00. New balance: $1500.00\n",
    "account.withdraw(200)  # Output: Withdrew $200.00. New balance: $1300.00\n",
    "account.check_balance()  # Output: Current balance: $1300.00"
   ]
  },
  {
   "cell_type": "code",
   "execution_count": 17,
   "metadata": {},
   "outputs": [
    {
     "name": "stdout",
     "output_type": "stream",
     "text": [
      "Strumming the guitar.\n",
      "Playing the piano.\n"
     ]
    }
   ],
   "source": [
    "'''6. Demonstrate runtime polymorphism using a method play() in a base class Instrument. Derive classes Guitar \n",
    "and Piano that implement their own version of play().'''\n",
    "class Instrument:\n",
    "    def play(self):\n",
    "        pass\n",
    "\n",
    "class Guitar(Instrument):\n",
    "    def play(self):\n",
    "        print(\"Strumming the guitar.\")\n",
    "\n",
    "class Piano(Instrument):\n",
    "    def play(self):\n",
    "        print(\"Playing the piano.\")\n",
    "\n",
    "def play_instrument(instrument: Instrument):\n",
    "    instrument.play()\n",
    "\n",
    "# Example usage\n",
    "guitar = Guitar()\n",
    "piano = Piano()\n",
    "\n",
    "play_instrument(guitar)  # Output: Strumming the guitar.\n",
    "play_instrument(piano)  # Output: Playing the piano."
   ]
  },
  {
   "cell_type": "code",
   "execution_count": null,
   "metadata": {},
   "outputs": [
    {
     "name": "stdout",
     "output_type": "stream",
     "text": [
      "15\n",
      "5\n"
     ]
    }
   ],
   "source": [
    "'''7. Create a class MathOperations with a class method add_numbers() to add two numbers and a static \n",
    "method subtract_numbers() to subtract two numbers.'''\n",
    "class MathOperations:\n",
    "    @classmethod\n",
    "    def add_numbers(cls, num1, num2):\n",
    "        return num1 + num2\n",
    "\n",
    "    @staticmethod\n",
    "    def subtract_numbers(num1, num2):\n",
    "        return num1 - num2\n",
    "\n",
    "# Example usage\n",
    "print(MathOperations.add_numbers(10, 5))  # Output: 15\n",
    "print(MathOperations.subtract_numbers(10, 5))  # Output: 5"
   ]
  },
  {
   "cell_type": "code",
   "execution_count": 13,
   "metadata": {},
   "outputs": [
    {
     "name": "stdout",
     "output_type": "stream",
     "text": [
      "3\n"
     ]
    }
   ],
   "source": [
    "'''8. Implement a class Person with a class method to count the total number of persons created.'''\n",
    "class Person:\n",
    "    person_count = 0\n",
    "    def __init__(self, name, age):\n",
    "        self.name = name\n",
    "        self.age = age\n",
    "        Person.person_count += 1\n",
    "    @classmethod\n",
    "    def count_persons(cls):\n",
    "        return cls.person_count\n",
    "# Example usage\n",
    "person1 = Person(\"John Doe\", 30)\n",
    "person2 = Person(\"Jane Smith\", 25)\n",
    "person3 = Person(\"Bob Johnson\", 40)\n",
    "\n",
    "print(Person.count_persons())  # Output: 3"
   ]
  },
  {
   "cell_type": "code",
   "execution_count": 9,
   "metadata": {},
   "outputs": [
    {
     "name": "stdout",
     "output_type": "stream",
     "text": [
      "3/4\n"
     ]
    }
   ],
   "source": [
    "'''9. Write a class Fraction with attributes numerator and denominator. Override the str method to display the \n",
    "fraction as \"numerator/denominator\".'''\n",
    "class Fraction:\n",
    "    def __init__(self, numerator, denominator):\n",
    "        if denominator == 0:\n",
    "            raise ValueError(\"Denominator cannot be zero\")\n",
    "        self.numerator = numerator\n",
    "        self.denominator = denominator\n",
    "    def __str__(self):\n",
    "        return f\"{self.numerator}/{self.denominator}\"\n",
    "# Example usage\n",
    "fraction = Fraction(3, 4)\n",
    "print(fraction)  # Output: 3/4"
   ]
  },
  {
   "cell_type": "code",
   "execution_count": 7,
   "metadata": {},
   "outputs": [
    {
     "name": "stdout",
     "output_type": "stream",
     "text": [
      "Vector(6, 8)\n"
     ]
    }
   ],
   "source": [
    "'''10. Demonstrate operator overloading by creating a class Vector and overriding the add method to add two \n",
    "vectors.'''\n",
    "class Vector:\n",
    "    def __init__(self, x, y):\n",
    "        self.x = x\n",
    "        self.y = y\n",
    "    def __add__(self, other):\n",
    "        return Vector(self.x + other.x, self.y + other.y)\n",
    "    def __str__(self):\n",
    "        return f\"Vector({self.x}, {self.y})\"\n",
    "# Example usage\n",
    "v1 = Vector(2, 3)\n",
    "v2 = Vector(4, 5)\n",
    "v3 = v1 + v2  # Operator overloading in action\n",
    "print(v3)  # Output: Vector(6, 8)"
   ]
  },
  {
   "cell_type": "code",
   "execution_count": 6,
   "metadata": {},
   "outputs": [
    {
     "name": "stdout",
     "output_type": "stream",
     "text": [
      "Hello, my name is John Doe and I am 30 years old.\n"
     ]
    }
   ],
   "source": [
    "'''11. Create a class Person with attributes name and age. Add a method greet() that prints \"Hello, my name is \n",
    "{name} and I am {age} years old.'''\n",
    "class Person:\n",
    "    def __init__(self, name, age):\n",
    "        self.name = name\n",
    "        self.age = age\n",
    "    def greet(self):\n",
    "        print(f\"Hello, my name is {self.name} and I am {self.age} years old.\")\n",
    "# Example usage\n",
    "person = Person(\"John Doe\", 30)\n",
    "person.greet()"
   ]
  },
  {
   "cell_type": "code",
   "execution_count": null,
   "metadata": {},
   "outputs": [
    {
     "name": "stdout",
     "output_type": "stream",
     "text": [
      "Student Name: John Doe\n",
      "Average Grade: 84.33\n"
     ]
    }
   ],
   "source": [
    "'''12. Implement a class Student with attributes name and grades. Create a method average_grade() to compute \n",
    "the average of the grades.'''\n",
    "class Student:\n",
    "    def __init__(self, name, grades=None):\n",
    "        self.name = name\n",
    "        self.grades = grades if grades else []\n",
    "    def add_grade(self, grade):\n",
    "        self.grades.append(grade)\n",
    "    def average_grade(self):\n",
    "        if not self.grades:\n",
    "            return 0\n",
    "        return sum(self.grades) / len(self.grades)\n",
    "# Example usage\n",
    "student = Student(\"John Doe\")\n",
    "student.add_grade(85)\n",
    "student.add_grade(90)\n",
    "student.add_grade(78)\n",
    "print(f\"Student Name: {student.name}\")\n",
    "print(f\"Average Grade: {student.average_grade():.2f}\")"
   ]
  },
  {
   "cell_type": "code",
   "execution_count": null,
   "metadata": {},
   "outputs": [
    {
     "name": "stdout",
     "output_type": "stream",
     "text": [
      "Rectangle Area: 15\n"
     ]
    }
   ],
   "source": [
    "'''13. Create a class Rectangle with methods set_dimensions() to set the dimensions and area() to calculate the \n",
    "area.'''\n",
    "class Rectangle:\n",
    "    def __init__(self):\n",
    "        self.length = 0\n",
    "        self.width = 0\n",
    "    def set_dimensions(self, length, width):\n",
    "        self.length = length\n",
    "        self.width = width\n",
    "    def area(self):\n",
    "        return self.length * self.width\n",
    "# Example usage\n",
    "rectangle = Rectangle()\n",
    "rectangle.set_dimensions(5, 3)\n",
    "print(f\"Rectangle Area: {rectangle.area()}\")"
   ]
  },
  {
   "cell_type": "code",
   "execution_count": 3,
   "metadata": {},
   "outputs": [
    {
     "name": "stdout",
     "output_type": "stream",
     "text": [
      "Employee Salary: $2000.00\n",
      "Manager Salary: $3400.00\n"
     ]
    }
   ],
   "source": [
    "'''14. Create a class Employee with a method calculate_salary() that computes the salary based on hours worked \n",
    "and hourly rate. Create a derived class Manager that adds a bonus to the salary.'''\n",
    "class Employee:\n",
    "    def __init__(self, name, hours_worked, hourly_rate):\n",
    "        self.name = name\n",
    "        self.hours_worked = hours_worked\n",
    "        self.hourly_rate = hourly_rate\n",
    "    def calculate_salary(self):\n",
    "        return self.hours_worked * self.hourly_rate\n",
    "class Manager(Employee):\n",
    "    def __init__(self, name, hours_worked, hourly_rate, bonus):\n",
    "        super().__init__(name, hours_worked, hourly_rate)\n",
    "        self.bonus = bonus\n",
    "    def calculate_salary(self):\n",
    "        return super().calculate_salary() + self.bonus\n",
    "# Example usage\n",
    "employee = Employee(\"John Doe\", 40, 50)\n",
    "print(f\"Employee Salary: ${employee.calculate_salary():.2f}\")\n",
    "manager = Manager(\"Jane Smith\", 40, 60, 1000)\n",
    "print(f\"Manager Salary: ${manager.calculate_salary():.2f}\")"
   ]
  },
  {
   "cell_type": "code",
   "execution_count": null,
   "metadata": {},
   "outputs": [
    {
     "name": "stdout",
     "output_type": "stream",
     "text": [
      "Product: Apple iPhone\n",
      "Price: $999.99\n",
      "Quantity: 2\n",
      "Total Price: $1999.98\n"
     ]
    }
   ],
   "source": [
    "'''15. Create a class Product with attributes name, price, and quantity. Implement a method total_price() that \n",
    "calculates the total price of the product.''' \n",
    "class Product:\n",
    "    def __init__(self, name, price, quantity):\n",
    "        self.name = name\n",
    "        self.price = price\n",
    "        self.quantity = quantity\n",
    "\n",
    "    def total_price(self):\n",
    "        return self.price * self.quantity\n",
    "\n",
    "# Example usage\n",
    "product = Product(\"Apple iPhone\", 999.99, 2)\n",
    "print(f\"Product: {product.name}\")\n",
    "print(f\"Price: ${product.price:.2f}\")\n",
    "print(f\"Quantity: {product.quantity}\")\n",
    "print(f\"Total Price: ${product.total_price():.2f}\")\n"
   ]
  },
  {
   "cell_type": "code",
   "execution_count": null,
   "metadata": {},
   "outputs": [
    {
     "name": "stdout",
     "output_type": "stream",
     "text": [
      "Moo!\n",
      "Baa!\n"
     ]
    }
   ],
   "source": [
    "'''16. Create a class Animal with an abstract method sound(). Create two derived classes Cow and Sheep that \n",
    "implement the sound() method.'''\n",
    "from abc import ABC, abstractmethod\n",
    "\n",
    "class Animal(ABC):\n",
    "    @abstractmethod\n",
    "    def sound(self):\n",
    "        pass\n",
    "\n",
    "class Cow(Animal):\n",
    "    def sound(self):\n",
    "        print(\"Moo!\")\n",
    "\n",
    "class Sheep(Animal):\n",
    "    def sound(self):\n",
    "        print(\"Baa!\")\n",
    "\n",
    "# Example usage\n",
    "cow = Cow()\n",
    "cow.sound()  # Output: Moo!\n",
    "\n",
    "sheep = Sheep()\n",
    "sheep.sound()  # Output: Baa!"
   ]
  },
  {
   "cell_type": "code",
   "execution_count": 22,
   "metadata": {},
   "outputs": [
    {
     "name": "stdout",
     "output_type": "stream",
     "text": [
      "'To Kill a Mockingbird' by Harper Lee, published in 1960\n"
     ]
    }
   ],
   "source": [
    "'''17. Create a class Book with attributes title, author, and year_published. Add a method get_book_info() that \n",
    "returns a formatted string with the book's details.'''\n",
    "class Book:\n",
    "    def __init__(self, title, author, year_published):\n",
    "        self.title = title\n",
    "        self.author = author\n",
    "        self.year_published = year_published\n",
    "\n",
    "    def get_book_info(self):\n",
    "        return f\"'{self.title}' by {self.author}, published in {self.year_published}\"\n",
    "\n",
    "# Example usage\n",
    "book = Book(\"To Kill a Mockingbird\", \"Harper Lee\", 1960)\n",
    "print(book.get_book_info())"
   ]
  },
  {
   "cell_type": "code",
   "execution_count": 23,
   "metadata": {},
   "outputs": [
    {
     "name": "stdout",
     "output_type": "stream",
     "text": [
      "Address: 123 Main St\n",
      "Price: $500000.00\n",
      "\n",
      "--- Mansion Details ---\n",
      "Address: 456 Elm St\n",
      "Price: $2000000.00\n",
      "Number of Rooms: 10\n"
     ]
    }
   ],
   "source": [
    "'''18. Create a class House with attributes address and price. Create a derived class Mansion that adds an \n",
    "attribute number_of_rooms.'''\n",
    "class House:\n",
    "    def __init__(self, address, price):\n",
    "        self.address = address\n",
    "        self.price = price\n",
    "\n",
    "    def display_details(self):\n",
    "        print(f\"Address: {self.address}\")\n",
    "        print(f\"Price: ${self.price:.2f}\")\n",
    "\n",
    "class Mansion(House):\n",
    "    def __init__(self, address, price, number_of_rooms):\n",
    "        super().__init__(address, price)\n",
    "        self.number_of_rooms = number_of_rooms\n",
    "\n",
    "    def display_details(self):\n",
    "        super().display_details()\n",
    "        print(f\"Number of Rooms: {self.number_of_rooms}\")\n",
    "\n",
    "# Example usage\n",
    "house = House(\"123 Main St\", 500000)\n",
    "house.display_details()\n",
    "\n",
    "print(\"\\n--- Mansion Details ---\")\n",
    "mansion = Mansion(\"456 Elm St\", 2000000, 10)\n",
    "mansion.display_details()"
   ]
  }
 ],
 "metadata": {
  "kernelspec": {
   "display_name": "Python 3",
   "language": "python",
   "name": "python3"
  },
  "language_info": {
   "codemirror_mode": {
    "name": "ipython",
    "version": 3
   },
   "file_extension": ".py",
   "mimetype": "text/x-python",
   "name": "python",
   "nbconvert_exporter": "python",
   "pygments_lexer": "ipython3",
   "version": "3.12.8"
  }
 },
 "nbformat": 4,
 "nbformat_minor": 2
}
